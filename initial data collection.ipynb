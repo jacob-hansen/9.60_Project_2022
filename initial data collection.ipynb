{
  "cells": [
    {
      "cell_type": "markdown",
      "metadata": {},
      "source": [
        "# YouTube Downloads"
      ]
    },
    {
      "cell_type": "code",
      "execution_count": 212,
      "metadata": {},
      "outputs": [
        {
          "data": {
            "text/plain": [
              "'/Users/jacobhansen/Desktop/test/Driving into Salt Lake City.mp4'"
            ]
          },
          "execution_count": 212,
          "metadata": {},
          "output_type": "execute_result"
        }
      ],
      "source": [
        "from pytube import YouTube\n",
        "path = \"/Users/jacobhansen/Desktop/test/\"\n",
        "yt = YouTube('https://www.youtube.com/watch?v=Uz3LExBIdks')\n",
        "yt.streams.filter(progressive=True, file_extension='mp4').order_by('resolution')[-1].download(output_path = path)"
      ]
    },
    {
      "cell_type": "markdown",
      "metadata": {},
      "source": [
        "# Canny Filter on Image"
      ]
    },
    {
      "cell_type": "code",
      "execution_count": null,
      "metadata": {},
      "outputs": [],
      "source": [
        "import cv2 as cv"
      ]
    },
    {
      "cell_type": "code",
      "execution_count": 81,
      "metadata": {},
      "outputs": [
        {
          "data": {
            "text/plain": [
              "-1"
            ]
          },
          "execution_count": 81,
          "metadata": {},
          "output_type": "execute_result"
        }
      ],
      "source": [
        "# Read the original image\n",
        "img = cv.imread('/Users/jacobhansen/Desktop/canyonPhoto.png')\n",
        "\n",
        "# Display original image\n",
        "cv.imshow('Original', img)\n",
        "\n",
        "cv.waitKey(0)\n",
        "\n",
        "# Convert to graycsale\n",
        "img_gray = cv.cvtColor(img, cv.COLOR_BGR2GRAY)\n",
        "\n",
        "# Blur the image for better edge detection\n",
        "img_blur = cv.GaussianBlur(img_gray, (3,3), 0)\n",
        "\n",
        "# Canny Edge Detection\n",
        "edges_clean = cv.Canny(image=img_gray, threshold1=100, threshold2=200) # Canny Edge Detection\n",
        "cv.imshow('Canny Edge Detection - No Blur', edges_clean) # Display Canny Edge Detection Image\n",
        "\n",
        "cv.waitKey(0)\n",
        "\n",
        "edges = cv.Canny(image=img_blur, threshold1=100, threshold2=200) # Canny Edge Detection\n",
        "cv.imshow('Canny Edge Detection - Medium Blur', edges) # Display Canny Edge Detection Image\n",
        "\n",
        "cv.waitKey(0) # Wait Until Key is Given\n",
        "\n",
        "img_blur_heavy = cv.GaussianBlur(img_gray, (5,5), 0)\n",
        "edges = cv.Canny(image=img_blur_heavy, threshold1=100, threshold2=200) # Canny Edge Detection\n",
        "cv.imshow('Canny Edge Detection - Heavy Blur', edges) # Display Canny Edge Detection Image\n",
        "\n",
        "cv.waitKey(0) # Wait Until Key is Given\n",
        "\n",
        "cv.destroyAllWindows()\n",
        "cv.waitKey(1) # needed to close the windows\n"
      ]
    },
    {
      "cell_type": "markdown",
      "metadata": {},
      "source": [
        "# Canny Filter on Video"
      ]
    },
    {
      "cell_type": "code",
      "execution_count": 1,
      "metadata": {},
      "outputs": [],
      "source": [
        "import cv2 as cv\n",
        "import numpy as np"
      ]
    },
    {
      "cell_type": "code",
      "execution_count": 82,
      "metadata": {},
      "outputs": [],
      "source": [
        "def canny(img, blur = 3, threshold1 = 100, threshold2 = 200):\n",
        "    \"\"\"\n",
        "    Recieves a color image and return a c\n",
        "    \"\"\"\n",
        "    img_gray = cv.cvtColor(img, cv.COLOR_BGR2GRAY)\n",
        "\n",
        "    # Blur the image for better edge detection\n",
        "    img_blur = cv.GaussianBlur(img_gray, (blur,blur), 0)\n",
        "\n",
        "    # Canny Edge Detection\n",
        "    edges_clean = cv.Canny(image=img_blur, threshold1=threshold1, threshold2=threshold2) # Canny Edge Detection\n",
        "\n",
        "    # return to same format as input\n",
        "    img_complete = cv.cvtColor(edges_clean,cv.COLOR_GRAY2RGB)\n",
        "    return img_complete"
      ]
    },
    {
      "cell_type": "code",
      "execution_count": 91,
      "metadata": {},
      "outputs": [],
      "source": [
        "def save_canny_video(path, save_name, blur = 3):\n",
        "    \"\"\"\n",
        "    recieves a path to a video with a blur and a name for which to save it. \n",
        "    \"\"\"\n",
        "    assert blur%2 != 0, \"Blur input must be an odd number\"\n",
        "\n",
        "    # set filter to desired output, filter called as filter(img, blur)\n",
        "    filter = canny\n",
        "\n",
        "    # initialize video capture\n",
        "    cap = cv.VideoCapture(path)\n",
        "\n",
        "    # Get the Default resolutions\n",
        "    frame_width = int(cap.get(3))\n",
        "    frame_height = int(cap.get(4))\n",
        "    frame_rate = cap.get(5)\n",
        "\n",
        "    # Define the codec and filename.\n",
        "    out = cv.VideoWriter(save_name+\".avi\",cv.VideoWriter_fourcc('M','J','P','G'), frame_rate, (frame_width, frame_height)) #\n",
        "\n",
        "    while(cap.isOpened()):\n",
        "        # read frames, ret is true/false if a frame was returned (ie havne't reached the end)\n",
        "        ret, frame = cap.read()\n",
        "        \n",
        "        if ret==True:\n",
        "            # run canny filter on frame\n",
        "            lines = filter(frame, blur)\n",
        "\n",
        "            # write the  frame\n",
        "            out.write(lines)\n",
        "\n",
        "            # display image while \n",
        "            # cv.imshow('frame',lines)\n",
        "            # if cv.waitKey(1) & 0xFF == ord('q'):\n",
        "            #     break\n",
        "        else:\n",
        "            break\n",
        "\n",
        "    # Release everything if job is finished\n",
        "    cap.release()\n",
        "    out.release()\n",
        "\n",
        "    cv.destroyAllWindows() # close window \n",
        "    cv.waitKey(1) # needed for mac OS to close the window"
      ]
    },
    {
      "cell_type": "code",
      "execution_count": 90,
      "metadata": {},
      "outputs": [],
      "source": [
        "path = \"Driving into Salt Lake City - Short.mp4\"\n",
        "save_canny_video(path, \"Driving into SLC - blur 3\", 3)"
      ]
    }
  ],
  "metadata": {
    "accelerator": "GPU",
    "colab": {
      "collapsed_sections": [
        "x4HI2mpwlrcn"
      ],
      "name": "2022_9_60_Tutorial_CNN_Jacob.ipynb",
      "provenance": []
    },
    "kernelspec": {
      "display_name": "Python 3",
      "name": "python3"
    },
    "language_info": {
      "codemirror_mode": {
        "name": "ipython",
        "version": 3
      },
      "file_extension": ".py",
      "mimetype": "text/x-python",
      "name": "python",
      "nbconvert_exporter": "python",
      "pygments_lexer": "ipython3",
      "version": "3.9.7"
    }
  },
  "nbformat": 4,
  "nbformat_minor": 0
}
